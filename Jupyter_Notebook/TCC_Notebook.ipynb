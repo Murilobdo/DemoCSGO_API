{
 "cells": [
  {
   "cell_type": "markdown",
   "metadata": {},
   "source": [
    "# Instalando as bibliotecas necessarias\n"
   ]
  },
  {
   "cell_type": "code",
   "execution_count": null,
   "metadata": {},
   "outputs": [],
   "source": [
    "import requests as rq\n",
    "import pathlib as path\n",
    "import pandas as pd\n",
    "import json\n",
    "import shutil\n",
    "import urllib.request\n",
    "import os\n",
    "import zipfile\n",
    "import time\n",
    "from IPython.display import Image\n",
    "from IPython.display import clear_output\n",
    "import io\n",
    "\n",
    "%matplotlib inline\n",
    "\n",
    "url_api = \"https://localhost:44346/v1/Demo/\"\n",
    "#url_api = \"https://localhost:5001/v1/Demo/\""
   ]
  },
  {
   "cell_type": "markdown",
   "metadata": {},
   "source": [
    "# DOWNLOAD DAS PARTIDAS\n",
    "\n",
    "Será feito o download de mais de 450 demos e armazenadas em um json para maior facilidade de manuseio"
   ]
  },
  {
   "cell_type": "markdown",
   "metadata": {},
   "source": [
    "## Agora vamos consumir a API e seus métodos"
   ]
  },
  {
   "cell_type": "markdown",
   "metadata": {},
   "source": [
    "### Metodo GetPlayers, retorna todos os dados dos jogadores das demos baixadas acima"
   ]
  },
  {
   "cell_type": "code",
   "execution_count": null,
   "metadata": {},
   "outputs": [],
   "source": [
    "index = 1;\n",
    "start = time.time()\n",
    "\n",
    "print(\"Baixando todas partidas demo...\")\n",
    "\n",
    "for link in ligas['demo']:\n",
    "    filedata = urllib.request.urlopen(link)\n",
    "    data = filedata.read()\n",
    "    start = time.time()\n",
    "    mypath = \"partidas\"\n",
    "    \n",
    "    if not os.path.exists(mypath):\n",
    "        os.makedirs(mypath, 0o0755)\n",
    "        print(\"Pasta criada.\")\n",
    "    \n",
    "    fileName = mypath + \"/\" + \"partida\" + str(index) + \".rar\"\n",
    "    \n",
    "    with open(fileName, 'wb') as f:\n",
    "        f.write(data)\n",
    "        \n",
    "    with zipfile.ZipFile(fileName) as zip_ref:\n",
    "        zip_ref.extractall('partidas')\n",
    "        \n",
    "    os.remove(fileName)\n",
    "    \n",
    "    end = time.time()\n",
    "    tempoDecorrido = end - start\n",
    "    print(str(fileName) + \" baixada em \" + str(tempoDecorrido) + \"s\")\n",
    "    \n",
    "    index+=1;\n",
    "    \n",
    "\n",
    "end = time.time()\n",
    "tempoDecorrido = end - start\n",
    "print(\"Todas as partidas baixadas em \" + str(tempoDecorrido) + \"s\")"
   ]
  },
  {
   "cell_type": "markdown",
   "metadata": {},
   "source": [
    "## Agora vamos consumir a API e seus métodos"
   ]
  },
  {
   "cell_type": "markdown",
   "metadata": {},
   "source": [
    "### Metodo GetPlayers, retorna todos os dados dos jogadores das demos baixadas acima"
   ]
  },
  {
   "cell_type": "code",
   "execution_count": null,
   "metadata": {},
   "outputs": [],
   "source": [
    "def GetNamesWeapon(data):\n",
    "    result = ['Name', 'TeamName', 'Killed', 'Death', 'ADR', 'TotalDamageDealt', 'RoundMVPs', 'FlashAssists', 'BombsPlanted', 'Clutches', 'FirstKills', 'FirstDeaths', 'FlashedEnemies', 'WalkQuantityAsTR',\n",
    "              'DistanceTraveledAsTR', 'DistanceTraveledAsCT']\n",
    "    for player in data: \n",
    "        for weapon in player['Weapons']:\n",
    "            if weapon['NameWeapon'] not in result:\n",
    "                result.append(weapon['NameWeapon'])\n",
    "    return result\n",
    "                  \n",
    "def GetInfoWeaponPlayer(name, weapons, jsonResult):\n",
    "    print()\n",
    "    dic = {weapon['NameWeapon']: int(weapon['KillQuantity']) for weapon in weapons }\n",
    "    dic['Name']                 = name\n",
    "    dic['TeamName']             = jsonResult['TeamName']\n",
    "    dic['Killed']               = jsonResult['Killed']\n",
    "    dic['Death']                = jsonResult['Death']\n",
    "    dic['ADR']                  = jsonResult['ADR']\n",
    "    dic['TotalDamageDealt']     = jsonResult['TotalDamageDealt']\n",
    "    dic['RoundMVPs']            = jsonResult['RoundMVPs']\n",
    "    dic['FlashAssists']         = jsonResult['FlashAssists']\n",
    "    dic['BombsPlanted']         = jsonResult['BombsPlanted']\n",
    "    dic['Clutches']             = jsonResult['Clutches']\n",
    "    dic['FirstKills']           = jsonResult['FirstKills']\n",
    "    dic['FirstDeaths']          = jsonResult['FirstDeaths']\n",
    "    dic['FlashedEnemies']       = jsonResult['FlashedEnemies']\n",
    "    dic['WalkQuantityAsTR']     = jsonResult['WalkQuantityAsTR']\n",
    "    dic['DistanceTraveledAsTR'] = jsonResult['DistanceTraveledAsTR']\n",
    "    dic['DistanceTraveledAsCT'] = jsonResult['DistanceTraveledAsCT']## Agora vamos consumir a API e seus métodos\n",
    "\n",
    "### Metodo GetPlayers, retorna todos os dados dos jogadores das demos baixadas acima\n",
    "    return dic"
   ]
  },
  {
   "cell_type": "code",
   "execution_count": null,
   "metadata": {
    "scrolled": true
   },
   "outputs": [],
   "source": [
    "jsonResult = json.loads(rq.get(url_api + \"GetPlayers\", verify=False).content)\n",
    "\n",
    "playerWeaponsArray = []\n",
    "\n",
    "#pego o nome de todas as armas para fazer de colunas\n",
    "weaponsArray = GetNamesWeapon(jsonResult)\n",
    "for player in jsonResult:\n",
    "    playerWeaponsArray.append(GetInfoWeaponPlayer(player['Name'], player['Weapons'], player))\n",
    "\n",
    "df = pd.DataFrame(data=playerWeaponsArray, columns=weaponsArray)\n",
    "df = df.fillna(0)\n",
    "df.to_csv(\"LiquidVPPlayersStats.csv\")\n",
    "df.head()"
   ]
  },
  {
   "cell_type": "code",
   "execution_count": null,
   "metadata": {},
   "outputs": [],
   "source": [
    "jsonResult = rq.get(url_api + \"GetPlayers\", verify=False).content\n",
    "df = pd.read_json(jsonResult)\n",
    "df.drop(['Weapons'], axis=1, inplace=True)"
   ]
  },
  {
   "cell_type": "code",
   "execution_count": null,
   "metadata": {},
   "outputs": [],
   "source": [
    "df.to_csv(\"AllPlayersStats.csv\")\n",
    "df"
   ]
  },
  {
   "cell_type": "markdown",
   "metadata": {},
   "source": [
    "## Filtrando dados"
   ]
  },
  {
   "cell_type": "code",
   "execution_count": null,
   "metadata": {},
   "outputs": [],
   "source": [
    "roles = pd.read_csv(\"PlayersRoles180.csv\")\n",
    "#roles = pd.read_csv(\"rolesTest.csv\")\n",
    "roles.info()"
   ]
  },
  {
   "cell_type": "code",
   "execution_count": null,
   "metadata": {
    "scrolled": false
   },
   "outputs": [],
   "source": [
    "players = pd.read_csv(\"AllPlayersStats2.csv\")\n",
    "players.rename(columns={'Unnamed: 0': 'ID'}, inplace=True)\n",
    "players.insert(1, 'Role', \"\")\n",
    "\n",
    "cols = players.columns.tolist()\n",
    "playersRolesDF = pd.DataFrame(columns=cols)\n",
    "\n",
    "players = players.fillna(0)\n",
    "players.head()"
   ]
  },
  {
   "cell_type": "code",
   "execution_count": null,
   "metadata": {
    "scrolled": true
   },
   "outputs": [],
   "source": [
    "for index, row in roles.iterrows():\n",
    "    player = players.loc[players['Name'] == row['Name']]\n",
    "    if (row['Role'] != 'IGL'):\n",
    "        player['Role'] = row['Role']\n",
    "        playersRolesDF = pd.concat([playersRolesDF, player])\n",
    "\n",
    "playersRolesDF.head()"
   ]
  },
  {
   "cell_type": "code",
   "execution_count": null,
   "metadata": {
    "scrolled": true
   },
   "outputs": [],
   "source": [
    "#playersRolesDF.drop(['ID', 'Name', 'TeamName', 'DistanceTraveledAsCT', 'Knife', 'P250', 'Desconhecido', 'DualBarettas', 'Swag7', 'Zeus', 'P90', 'XM1014', 'MP7', 'MP5SD', 'Nova', 'M249', 'World', 'Scar20', 'Negev', 'Bizon', 'SawedOff', 'G3SG1', 'P2000'], axis=1, inplace=True)\n",
    "#playersRolesDF.drop(['ID', 'Name', 'TeamName', 'DistanceTraveledAsCT', 'DistanceTraveledAsTR', 'WalkQuantityAsTR', 'Knife'], axis=1, inplace=True)\n",
    "playersRolesDF.drop(['ID', 'Name', 'TeamName', 'WalkQuantityAsCT', 'DistanceTraveledAsCT'], axis=1, inplace=True)"
   ]
  },
  {
   "cell_type": "code",
   "execution_count": null,
   "metadata": {},
   "outputs": [],
   "source": [
    "#dataFrame = playersRolesDF.drop('Role', axis=1)\n",
    "dataframe = playersRolesDF.round(decimals=2)\n",
    "#dataframe.to_csv('playersRolesDF3.csv')\n",
    "dataframe"
   ]
  },
  {
   "cell_type": "markdown",
   "metadata": {},
   "source": [
    "## Regressão Logística"
   ]
  },
  {
   "cell_type": "code",
   "execution_count": null,
   "metadata": {},
   "outputs": [],
   "source": [
    "from sklearn.linear_model import LogisticRegression\n",
    "from sklearn.model_selection import train_test_split\n",
    "from sklearn.metrics import classification_report\n",
    "from sklearn.metrics import confusion_matrix\n",
    "from sklearn import tree\n",
    "import seaborn as sns\n",
    "import matplotlib.pyplot as plt\n",
    "import numpy as np\n",
    "import pickle\n",
    "\n",
    "%matplotlib inline"
   ]
  },
  {
   "cell_type": "code",
   "execution_count": null,
   "metadata": {},
   "outputs": [],
   "source": [
    "score = 0\n",
    "while (score <= 0.6):\n",
    "    X_train, X_test, y_train, y_test = train_test_split(dataFrame.drop('Role', axis=1), dataFrame['Role'])\n",
    "    model = LogisticRegression(multi_class='multinomial', max_iter=10000000000000)\n",
    "    model.fit(X_train, y_train)\n",
    "    predictions = model.predict(X_test)\n",
    "    score = model.score(X_test, y_test)\n",
    "    clear_output(wait=True)\n",
    "\n",
    "print(classification_report(y_test, predictions))\n",
    "sns.heatmap(confusion_matrix(y_test, predictions), annot=True)"
   ]
  },
  {
   "cell_type": "markdown",
   "metadata": {},
   "source": [
    "### Árvore de decisão"
   ]
  },
  {
   "cell_type": "code",
   "execution_count": null,
   "metadata": {},
   "outputs": [],
   "source": [
    "clf = tree.DecisionTreeClassifier()\n",
    "clf = clf.fit(X_train, y_train)\n",
    "\n",
    "fig, axes = plt.subplots(nrows=1, ncols=1, figsize=(4,4), dpi=300)\n",
    "\n",
    "tree.plot_tree(clf, filled=True)\n",
    "fig.savefig('DecisionTree.png')"
   ]
  },
  {
   "cell_type": "markdown",
   "metadata": {},
   "source": [
    "### Salvar o modelo"
   ]
  },
  {
   "cell_type": "code",
   "execution_count": null,
   "metadata": {},
   "outputs": [],
   "source": [
    "fileName = 'models/model.pkl'\n",
    "with open(fileName, 'wb') as file:\n",
    "    pickle.dump(model, file)"
   ]
  },
  {
   "cell_type": "markdown",
   "metadata": {},
   "source": [
    "### Predict one player"
   ]
  },
  {
   "cell_type": "code",
   "execution_count": null,
   "metadata": {
    "scrolled": true
   },
   "outputs": [],
   "source": [
    "casual_players = pd.read_csv('MyDemoStats.csv')\n",
    "casual_players.head()"
   ]
  },
  {
   "cell_type": "code",
   "execution_count": null,
   "metadata": {},
   "outputs": [],
   "source": [
    "casual_players.drop(['Unnamed: 0', 'Name', 'TeamName', 'WalkQuantityAsCT', 'DistanceTraveledAsCT'], axis=1, inplace=True)"
   ]
  },
  {
   "cell_type": "code",
   "execution_count": null,
   "metadata": {},
   "outputs": [],
   "source": [
    "casual_players = casual_players.round(decimals=2)\n",
    "casual_players.insert(0, 'Role', '')\n",
    "casual_players = casual_players.fillna(0)\n",
    "casual_players"
   ]
  },
  {
   "cell_type": "code",
   "execution_count": null,
   "metadata": {},
   "outputs": [],
   "source": []
  },
  {
   "cell_type": "markdown",
   "metadata": {},
   "source": [
    "### Adiciona colunas faltantes comparado ao modelo de treino para que seja possivel fazer a predição"
   ]
  },
  {
   "cell_type": "code",
   "execution_count": null,
   "metadata": {
    "scrolled": true
   },
   "outputs": [],
   "source": [
    "allPlayers_cols = playersRolesDF.columns.to_list()\n",
    "casual_players_cols = casual_players.columns.to_list()\n",
    "\n",
    "for i in range(len(playersRolesDF.columns.to_list())):\n",
    "    if allPlayers_cols[i] in casual_players.columns:\n",
    "        continue\n",
    "    else:\n",
    "        casual_players.insert(i, allPlayers_cols[i], 0)\n",
    "\n",
    "#casual_players.drop(['Unnamed: 0', 'Desconhecido', 'Name', 'TeamName', 'DistanceTraveledAsCT', 'WalkQuantityAsTR', 'DistanceTraveledAsTR', 'Knife'], axis=1, inplace=True)\n",
    "casual_players.drop(['Unnamed: 0', 'Desconhecido', 'Name', 'TeamName', 'DistanceTraveledAsCT', 'WalkQuantityAsTR', 'DistanceTraveledAsTR'], axis=1, inplace=True)\n",
    "#casual_players.drop(['Desconhecido', 'Name', 'TeamName', 'DistanceTraveledAsCT'], axis=1, inplace=True)\n",
    "casual_players.head()        "
   ]
  },
  {
   "cell_type": "code",
   "execution_count": null,
   "metadata": {},
   "outputs": [],
   "source": [
    "casual_players_count = len(casual_players.columns)\n",
    "playersRoles_count = len(playersRolesDF.columns)\n",
    "print(casual_players_count)\n",
    "print(casual_players.columns)\n",
    "print(playersRoles_count)\n",
    "print(playersRolesDF.columns)\n",
    "\n",
    "if (casual_players_count < playersRoles_count):\n",
    "    for i in range(playersRoles_count - casual_players_count):\n",
    "        casual_players.insert(casual_players_count, i, 0)\n",
    "        casual_players_count = len(casual_players.columns)\n",
    "\n",
    "print(\"===================================================================================\")\n",
    "print(casual_players_count)\n",
    "print(casual_players.columns)\n",
    "print(playersRoles_count)\n",
    "print(playersRolesDF.columns)"
   ]
  },
  {
   "cell_type": "code",
   "execution_count": null,
   "metadata": {
    "scrolled": false
   },
   "outputs": [],
   "source": [
    "#casual_players.drop(['Unnamed: 0'], axis=1, inplace=True)\n",
    "casual_players = casual_players.fillna(0)\n",
    "casual_players.head()"
   ]
  },
  {
   "cell_type": "code",
   "execution_count": null,
   "metadata": {},
   "outputs": [],
   "source": [
    "score = model.score(X_test, y_test)\n",
    "print(score)"
   ]
  },
  {
   "cell_type": "code",
   "execution_count": null,
   "metadata": {},
   "outputs": [],
   "source": [
    "predictions_proba = model.predict_proba(casual_players.drop('Role', axis=1))\n",
    "predictions = model.predict(casual_players.drop('Role', axis=1))\n",
    "#predictions_proba = loaded_model.predict_proba(X_test)\n",
    "#predictions = loaded_model.predict(X_test)\n",
    "\n",
    "np.set_printoptions(suppress=True)\n",
    "print(predictions_proba)\n",
    "print(predictions)"
   ]
  },
  {
   "cell_type": "markdown",
   "metadata": {},
   "source": [
    "### Carregando modelo salvo"
   ]
  },
  {
   "cell_type": "code",
   "execution_count": null,
   "metadata": {},
   "outputs": [],
   "source": [
    "with open('models/model60.pkl', 'rb') as file:\n",
    "    loaded_model = pickle.load(file)\n",
    "    \n",
    "predictions_proba = loaded_model.predict_proba(casual_players.drop('Role', axis=1))\n",
    "predictions = loaded_model.predict(casual_players.drop('Role', axis=1))\n",
    "#predictions_proba = loaded_model.predict_proba(X_test)\n",
    "#predictions = loaded_model.predict(X_test)\n",
    "\n",
    "np.set_printoptions(suppress=True)\n",
    "\n",
    "print(predictions_proba)\n",
    "print(predictions)"
   ]
  },
  {
   "cell_type": "code",
   "execution_count": null,
   "metadata": {},
   "outputs": [],
   "source": [
    "print(classification_report(y_test, predictions))\n",
    "sns.heatmap(confusion_matrix(y_test, predictions), annot=True)"
   ]
  },
  {
   "cell_type": "markdown",
   "metadata": {},
   "source": [
    "### Metodo GetHeatMap, retorna um mapa de calor da dust2 onde é possível ver onde os jogadores tiveram uma interação e onde eles foram mortos"
   ]
  },
  {
   "cell_type": "code",
   "execution_count": null,
   "metadata": {
    "scrolled": true
   },
   "outputs": [],
   "source": [
    "response = rq.get(url_api + \"GetHeatMap\", verify=False, stream=True)\n",
    "\n",
    "with open('heat_map.png', 'wb') as image:\n",
    "    shutil.copyfileobj(response.raw, image)\n",
    "del response\n",
    "\n",
    "Image(filename='heat_map.png')"
   ]
  }
 ],
 "metadata": {
  "kernelspec": {
   "display_name": "Python 3",
   "language": "python",
   "name": "python3"
  },
  "language_info": {
   "codemirror_mode": {
    "name": "ipython",
    "version": 3
   },
   "file_extension": ".py",
   "mimetype": "text/x-python",
   "name": "python",
   "nbconvert_exporter": "python",
   "pygments_lexer": "ipython3",
   "version": "3.8.5"
  }
 },
 "nbformat": 4,
 "nbformat_minor": 4
}
